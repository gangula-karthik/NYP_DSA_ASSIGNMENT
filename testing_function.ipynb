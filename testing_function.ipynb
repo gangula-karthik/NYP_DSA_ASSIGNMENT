{
 "cells": [
  {
   "cell_type": "code",
   "execution_count": 1,
   "metadata": {},
   "outputs": [
    {
     "name": "stdout",
     "output_type": "stream",
     "text": [
      "I\n",
      "II\n",
      "III\n",
      "IV\n"
     ]
    }
   ],
   "source": [
    "import math\n",
    "\n",
    "points = [0, 0]\n",
    "big_R = 300\n",
    "small_R = big_R / (1 + math.sqrt(2))\n",
    "\n",
    "quadrants_coordinates = {\n",
    "    \"I\": [points[0] + small_R, points[1] + big_R],\n",
    "    \"II\": [points[0] + small_R, points[1] + big_R - (2 * small_R)], \n",
    "    \"III\": [points[0] - small_R, points[1] + big_R - (2 * small_R)], \n",
    "    \"IV\": [points[0] - small_R, points[1] + big_R]\n",
    "}\n",
    "\n",
    "for i in quadrants_coordinates: \n",
    "    print(i)\n"
   ]
  },
  {
   "cell_type": "code",
   "execution_count": 4,
   "metadata": {},
   "outputs": [
    {
     "name": "stdout",
     "output_type": "stream",
     "text": [
      "[1, 1, 0, 1]\n",
      "[1, 1, 1, 0]\n",
      "[0, 1, 1, 1]\n",
      "[1, 0, 1, 1]\n",
      "[1, 1, 0, 1]\n",
      "[1, 1, 1, 0]\n",
      "[0, 1, 1, 1]\n",
      "[1, 0, 1, 1]\n",
      "[1, 1, 0, 1]\n",
      "[1, 1, 1, 0]\n",
      "[0, 1, 1, 1]\n"
     ]
    }
   ],
   "source": [
    "# generating the drawing pattern using binary shift operation\n",
    "queue = [1, 1, 0, 1]\n",
    "\n",
    "def push(val):\n",
    "    queue.insert(0, val)\n",
    "\n",
    "def pop():\n",
    "    val = queue.pop(-1)\n",
    "    if val == 0:\n",
    "        push(0)\n",
    "    else: \n",
    "        push(1)\n",
    "    return val\n",
    "\n",
    "print(queue)\n",
    "for i in range(10): \n",
    "    pop()\n",
    "    print(queue)"
   ]
  },
  {
   "cell_type": "code",
   "execution_count": 5,
   "metadata": {},
   "outputs": [
    {
     "name": "stdout",
     "output_type": "stream",
     "text": [
      "[1, 1, 1, 0]\n",
      "[0, 1, 1, 1]\n",
      "[1, 0, 1, 1]\n",
      "[1, 1, 0, 1]\n",
      "[1, 1, 1, 0]\n"
     ]
    }
   ],
   "source": [
    "myQueue = [1, 1, 0, 1]\n",
    "def pos_init(arr): \n",
    "    temp = arr.pop(-1)\n",
    "    if temp == 0: \n",
    "        arr.insert(0, 0)\n",
    "    else: \n",
    "        arr.insert(0, 1)\n",
    "\n",
    "for i in range(5): \n",
    "    pos_init(myQueue)\n",
    "    print(myQueue)"
   ]
  },
  {
   "cell_type": "code",
   "execution_count": 6,
   "metadata": {},
   "outputs": [],
   "source": [
    "def drawCircle(x, y, r, myTurtle):\n",
    "    myTurtle.penup()\n",
    "    myTurtle.setpos(x, y)\n",
    "    myTurtle.pendown()\n",
    "    myTurtle.circle(r)\n",
    "\n",
    "def sierpinski_circle(myTurtle, big_R, degree, points): \n",
    "    small_R = big_R / (1 + math.sqrt(2))\n",
    "    quadrant = get_quad(points, small_R, big_R)\n",
    "    for i in quadrant:\n",
    "        drawCircle(quadrant[i][0], quadrant[i][1], small_R, myTurtle)\n",
    "        if degree > 0:\n",
    "            sierpinski_circle(myTurtle, small_R, degree - 1, quadrant[i])\n",
    "\n",
    "def get_quad(points, small_R, big_R): \n",
    "    x, y = points[0], points[1]\n",
    "    quadrants_coordinates = {\n",
    "        \"I\": [x + small_R, y + big_R],\n",
    "        \"II\": [x + small_R, y + big_R - (2 * small_R)], \n",
    "        \"III\": [x - small_R, y + big_R - (2 * small_R)], \n",
    "        \"IV\": [x - small_R, y + big_R]\n",
    "    }\n",
    "\n",
    "    return quadrants_coordinates"
   ]
  },
  {
   "cell_type": "code",
   "execution_count": null,
   "metadata": {},
   "outputs": [],
   "source": []
  }
 ],
 "metadata": {
  "kernelspec": {
   "display_name": "tensorflow",
   "language": "python",
   "name": "python3"
  },
  "language_info": {
   "codemirror_mode": {
    "name": "ipython",
    "version": 3
   },
   "file_extension": ".py",
   "mimetype": "text/x-python",
   "name": "python",
   "nbconvert_exporter": "python",
   "pygments_lexer": "ipython3",
   "version": "3.9.13"
  },
  "orig_nbformat": 4,
  "vscode": {
   "interpreter": {
    "hash": "a8e05cf63ac726f038dfab79b33563c668cd6ae1db058d281eef76953685277a"
   }
  }
 },
 "nbformat": 4,
 "nbformat_minor": 2
}
