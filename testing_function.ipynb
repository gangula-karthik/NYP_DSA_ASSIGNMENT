{
 "cells": [
  {
   "cell_type": "code",
   "execution_count": 8,
   "metadata": {},
   "outputs": [
    {
     "name": "stdout",
     "output_type": "stream",
     "text": [
      "{'I': [124.26406871192852, 300], 'II': [124.26406871192852, 51.47186257614297], 'III': [-124.26406871192852, 51.47186257614297], 'IV': [-124.26406871192852, 300]}\n"
     ]
    },
    {
     "data": {
      "text/plain": [
       "300"
      ]
     },
     "execution_count": 8,
     "metadata": {},
     "output_type": "execute_result"
    }
   ],
   "source": [
    "import math\n",
    "\n",
    "points = [0, 0]\n",
    "big_R = 300\n",
    "small_R = big_R / (1 + math.sqrt(2))\n",
    "\n",
    "quadrants_coordinates = {\n",
    "    \"I\": [points[0] + small_R, points[1] + big_R],\n",
    "    \"II\": [points[0] + small_R, points[1] + big_R - (2 * small_R)], \n",
    "    \"III\": [points[0] - small_R, points[1] + big_R - (2 * small_R)], \n",
    "    \"IV\": [points[0] - small_R, points[1] + big_R]\n",
    "}\n",
    "\n",
    "print(quadrants_coordinates)\n",
    "\n",
    "quadrants_coordinates[\"I\"][1]\n"
   ]
  },
  {
   "cell_type": "code",
   "execution_count": 4,
   "metadata": {},
   "outputs": [
    {
     "name": "stdout",
     "output_type": "stream",
     "text": [
      "[1, 1, 0, 1]\n",
      "[1, 1, 1, 0]\n",
      "[0, 1, 1, 1]\n",
      "[1, 0, 1, 1]\n",
      "[1, 1, 0, 1]\n",
      "[1, 1, 1, 0]\n",
      "[0, 1, 1, 1]\n",
      "[1, 0, 1, 1]\n",
      "[1, 1, 0, 1]\n",
      "[1, 1, 1, 0]\n",
      "[0, 1, 1, 1]\n"
     ]
    }
   ],
   "source": [
    "# generating the drawing pattern using binary shift operation\n",
    "queue = [1, 1, 0, 1]\n",
    "\n",
    "def push(val):\n",
    "    queue.insert(0, val)\n",
    "\n",
    "def pop():\n",
    "    val = queue.pop(-1)\n",
    "    if val == 0:\n",
    "        push(0)\n",
    "    else: \n",
    "        push(1)\n",
    "    return val\n",
    "\n",
    "print(queue)\n",
    "for i in range(10): \n",
    "    pop()\n",
    "    print(queue)"
   ]
  },
  {
   "cell_type": "code",
   "execution_count": null,
   "metadata": {},
   "outputs": [],
   "source": []
  }
 ],
 "metadata": {
  "kernelspec": {
   "display_name": "tensorflow",
   "language": "python",
   "name": "python3"
  },
  "language_info": {
   "codemirror_mode": {
    "name": "ipython",
    "version": 3
   },
   "file_extension": ".py",
   "mimetype": "text/x-python",
   "name": "python",
   "nbconvert_exporter": "python",
   "pygments_lexer": "ipython3",
   "version": "3.9.13 | packaged by conda-forge | (main, May 27 2022, 17:00:33) \n[Clang 13.0.1 ]"
  },
  "orig_nbformat": 4,
  "vscode": {
   "interpreter": {
    "hash": "a8e05cf63ac726f038dfab79b33563c668cd6ae1db058d281eef76953685277a"
   }
  }
 },
 "nbformat": 4,
 "nbformat_minor": 2
}
